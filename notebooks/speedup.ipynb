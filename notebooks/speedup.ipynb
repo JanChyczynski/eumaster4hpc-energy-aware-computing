{
 "cells": [
  {
   "cell_type": "code",
   "execution_count": null,
   "metadata": {},
   "outputs": [],
   "source": [
    "import time\n",
    "import subprocess\n",
    "import matplotlib.pyplot as plt\n",
    "import numpy as np\n",
    "import multiprocessing\n",
    "\n",
    "rapl_package = '/sys/class/powercap/intel-rapl:0'\n",
    "\n",
    "def get_energy():\n",
    "    uj = int(subprocess.check_output(['eumaster4hpc-powercap-get', f'{rapl_package}/energy_uj']))\n",
    "    return uj / 1000000\n",
    "\n",
    "def run_task(*args):\n",
    "    subprocess.call(['eumaster4hpc-task', *args])\n",
    "\n",
    "def benchmark_once(*args):\n",
    "    time1 = time.time()\n",
    "    energy1 = get_energy()\n",
    "    run_task(*args)\n",
    "    energy2 = get_energy()\n",
    "    time2 = time.time()\n",
    "\n",
    "    total_energy = energy2 - energy1\n",
    "    total_time = time2 - time1\n",
    "\n",
    "    return total_time, total_energy\n",
    "\n",
    "def print_benchmark_once(*args):\n",
    "    total_time, total_energy = benchmark_once(*args)\n",
    "    print(f'Total time: {total_time}')\n",
    "    print(f'Total energy: {total_energy} J')\n",
    "\n",
    "\n",
    "def benchmark_amdahl(*args):\n",
    "    x = range(1, multiprocessing.cpu_count() + 1)\n",
    "    y = [benchmark_once(*args, str(i)) for i in x]\n",
    "    time = [i[0] for i in y]\n",
    "    energy = [i[1] for i in y]\n",
    "    speedup = [0] * len(time)\n",
    "    for i in range(0, len(speedup)):\n",
    "        speedup[i] = time[0] / time[i]\n",
    "\n",
    "    fig, ax = plt.subplots()\n",
    "    ax.plot(x, speedup)\n",
    "    ax.set(xlabel='cores', ylabel='speedup')\n",
    "    ax.grid()\n",
    "\n",
    "    fig, ax = plt.subplots()\n",
    "    ax.plot(x, time)\n",
    "    ax.set(xlabel='cores', ylabel='time')\n",
    "    ax.grid()\n",
    "\n",
    "    fig, ax = plt.subplots()\n",
    "    ax.plot(x, energy)\n",
    "    ax.set(xlabel='cores', ylabel='energy')\n",
    "    ax.grid()\n",
    "\n",
    "    plt.show()\n"
   ]
  },
  {
   "attachments": {},
   "cell_type": "markdown",
   "metadata": {},
   "source": [
    "## Sequential benchmark"
   ]
  },
  {
   "cell_type": "code",
   "execution_count": null,
   "metadata": {},
   "outputs": [],
   "source": [
    "print_benchmark_once('sequential', '100')\n"
   ]
  },
  {
   "attachments": {},
   "cell_type": "markdown",
   "metadata": {},
   "source": [
    "## Rayon benchmark"
   ]
  },
  {
   "cell_type": "code",
   "execution_count": null,
   "metadata": {},
   "outputs": [],
   "source": [
    "benchmark_amdahl('rayon', '1000')\n"
   ]
  }
 ],
 "metadata": {
  "kernelspec": {
   "display_name": "Python 3",
   "language": "python",
   "name": "python3"
  },
  "language_info": {
   "codemirror_mode": {
    "name": "ipython",
    "version": 3
   },
   "file_extension": ".py",
   "mimetype": "text/x-python",
   "name": "python",
   "nbconvert_exporter": "python",
   "pygments_lexer": "ipython3",
   "version": "3.11.3"
  },
  "orig_nbformat": 4
 },
 "nbformat": 4,
 "nbformat_minor": 2
}
