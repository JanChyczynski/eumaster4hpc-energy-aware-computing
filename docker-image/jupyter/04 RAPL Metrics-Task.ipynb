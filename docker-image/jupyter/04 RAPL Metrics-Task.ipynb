{
 "cells": [
  {
   "cell_type": "markdown",
   "id": "ad568bc4",
   "metadata": {},
   "source": [
    "# RAPL Energy Consumption"
   ]
  },
  {
   "cell_type": "code",
   "execution_count": null,
   "id": "ba2bca77-760c-4043-8c6b-6c955416bf54",
   "metadata": {},
   "outputs": [],
   "source": [
    "pip install matplotlib"
   ]
  },
  {
   "cell_type": "code",
   "execution_count": 5,
   "id": "856bf6ac",
   "metadata": {},
   "outputs": [],
   "source": [
    "import os\n",
    "from pathlib import Path\n",
    "import time\n",
    "import math\n",
    "from matplotlib import pyplot as plt\n",
    "import subprocess\n",
    "import numpy as np\n"
   ]
  },
  {
   "cell_type": "markdown",
   "id": "45dec6ce-1c57-47cc-8b80-009d09b553d4",
   "metadata": {},
   "source": [
    "**Note:** this notebook is meant to be executed on the supplied Docker image."
   ]
  },
  {
   "cell_type": "markdown",
   "id": "114f239a",
   "metadata": {},
   "source": [
    "This notebook provides ..."
   ]
  },
  {
   "cell_type": "markdown",
   "id": "db2c9813",
   "metadata": {},
   "source": [
    "## RAPL sysfs Interface"
   ]
  },
  {
   "cell_type": "markdown",
   "id": "137a7f96",
   "metadata": {},
   "source": [
    "Set the `cpu_zone` as in lab 02:"
   ]
  },
  {
   "cell_type": "code",
   "execution_count": 6,
   "id": "48ebbe16",
   "metadata": {},
   "outputs": [],
   "source": [
    "cpu_zone = '/sys/devices/virtual/powercap/...'  # complete this path"
   ]
  },
  {
   "cell_type": "markdown",
   "id": "99f86b66",
   "metadata": {},
   "source": [
    "Let's verify whether this zone seems like the zone of your CPU."
   ]
  },
  {
   "cell_type": "code",
   "execution_count": 8,
   "id": "bfc2bd9e",
   "metadata": {},
   "outputs": [
    {
     "name": "stdout",
     "output_type": "stream",
     "text": [
      "✓ Zone exists\n",
      "✓ Its name starts with 'package-'\n",
      "✓ File 'energy_uj' exists\n"
     ]
    }
   ],
   "source": [
    "if os.path.isdir(cpu_zone):\n",
    "    print('✓ Zone exists')\n",
    "else:\n",
    "    print('✗ Zone does not exist!')\n",
    "\n",
    "name = Path(f'{cpu_zone}/name').read_text().strip()\n",
    "\n",
    "if name.startswith('package-'):\n",
    "    print('✓ Its name starts with \\'package-\\'')\n",
    "else:\n",
    "    print('✗ Its zone does not start with \\'package-\\'!')\n",
    "\n",
    "if os.path.isfile(f'{cpu_zone}/energy_uj'):\n",
    "    print('✓ File \\'energy_uj\\' exists')\n",
    "else:\n",
    "    print('✗ File \\'energy_uj\\' does not exist!')"
   ]
  },
  {
   "cell_type": "markdown",
   "id": "34a02f3b",
   "metadata": {},
   "source": [
    "Complete the following code as in lab 02"
   ]
  },
  {
   "cell_type": "code",
   "execution_count": 9,
   "id": "e605aa78",
   "metadata": {},
   "outputs": [
    {
     "name": "stdout",
     "output_type": "stream",
     "text": [
      "Current energy counter value: 28614206288\n"
     ]
    }
   ],
   "source": [
    "def energy_uj():\n",
    "    raise exception('Not implemented')\n",
    "\n",
    "def energy_consumption(energy_uj_start, energy_uj_end):\n",
    "    raise exception('Not implemented')"
   ]
  },
  {
   "cell_type": "markdown",
   "id": "fd8f2d18-4bc7-41ec-b8da-4de2e7a904b3",
   "metadata": {},
   "source": [
    "Write function to set long term powercap. Keep in mind that argument is in W, but expected value should be in uW - micro wats"
   ]
  },
  {
   "cell_type": "code",
   "execution_count": 10,
   "id": "00297a5c",
   "metadata": {},
   "outputs": [],
   "source": [
    "def set_powercap(watts_limit: int):\n",
    "    raise exception('Not implemented')"
   ]
  },
  {
   "cell_type": "markdown",
   "id": "9a7834b0-57ac-4034-aed4-ef34b772ec9b",
   "metadata": {},
   "source": [
    "Implement the following metrics:\n",
    "\n",
    "1. *Energy-Delay Product (EDP)*:\n",
    "\n",
    "   $ EDP = E \\cdot t $\n",
    "\n",
    "2. *Energy-Delay Sum (EDS)*:\n",
    "\n",
    "   $ EDS = \\alpha \\cdot E + \\beta \\cdot t $\n",
    "\n",
    "3. *Energy-Delay Distance (EDD)*:\n",
    "\n",
    "   $ EDD = \\sqrt{(\\alpha \\cdot E)^2 + (\\beta \\cdot t)^2} $\n",
    "\n",
    "4. *Percentage Difference (%diff)*:\n",
    "\n",
    "   $ \\%diff = \\frac{(E_{init} - E)}{E_{init}} - \\frac{(t - t_{init})}{t_{init}} $"
   ]
  },
  {
   "cell_type": "code",
   "execution_count": 11,
   "id": "a64a40ed",
   "metadata": {
    "collapsed": false,
    "jupyter": {
     "outputs_hidden": false
    }
   },
   "outputs": [],
   "source": [
    "def edp(energy: float, time: float):\n",
    "    raise exception('Not implemented')\n",
    "\n",
    "def eds(energy: float, time: float, alpha: float, beta: float):\n",
    "    raise exception('Not implemented')\n",
    "\n",
    "def edd(energy: float, time: float, alpha: float, beta: float):\n",
    "    raise exception('Not implemented')\n",
    "\n",
    "def percent_diff(energy: float, time: float, init_energy: float, init_time: float):\n",
    "    raise exception('Not implemented')"
   ]
  },
  {
   "cell_type": "code",
   "execution_count": null,
   "id": "57f4d58f-f2b2-455d-afb9-4820cb8412ff",
   "metadata": {},
   "outputs": [],
   "source": [
    "from math import sin, cos, radians\n",
    "\n",
    "def run_task(pi_monte_carlo: bool, *args):\n",
    "    if pi_monte_carlo:\n",
    "        points = 100_000\n",
    "        inside = 0\n",
    "        \n",
    "        for _ in range(points):\n",
    "            x = np.random.uniform(-1, 1)\n",
    "            y = np.random.uniform(-1, 1)\n",
    "            if x ** 2 + y ** 2 <= 1:\n",
    "                inside += 1\n",
    "\n",
    "        pi = 4 * inside / points\n",
    "        return;\n",
    "    \n",
    "    product = 1.0\n",
    "    for counter in range(1, 100, 1):\n",
    "        for dex in list(range(1, 360, 1)):\n",
    "            angle = radians(dex)\n",
    "            product *= sin(angle)**2 + cos(angle)**2\n",
    "    return product\n",
    "\n",
    "\n",
    "def benchmark_once(pi_monte_carlo: bool, powercap_w: int, *args):\n",
    "    set_powercap(powercap_w)\n",
    "\n",
    "    time1 = time.time()\n",
    "    energy1 = energy_uj()\n",
    "    time.sleep(300/powercap_w**1.5)\n",
    "    run_task(pi_monte_carlo, *args)\n",
    "    time2 = time.time()\n",
    "    energy2 = energy_uj()\n",
    "\n",
    "\n",
    "    total_time = time2 - time1\n",
    "    total_energy = energy_consumption(energy1, energy2)\n",
    "\n",
    "    return total_time * 1000, total_energy"
   ]
  },
  {
   "cell_type": "markdown",
   "id": "ba672ae0-82d6-4f15-8652-89fe0ee4dd6c",
   "metadata": {},
   "source": [
    "Implement benchmark_ntimes function. It should return average of n calls for benchmark_once. Skip boundary values"
   ]
  },
  {
   "cell_type": "code",
   "execution_count": null,
   "id": "9c8c6b1c-316e-43f9-a00c-dabd392fa8c9",
   "metadata": {},
   "outputs": [],
   "source": [
    "def benchmark_ntimes(pi_monte_carlo: bool, times: int, powercap_w: int):\n",
    "    raise exception('Not implemented')\n",
    "    # avg_time = ???\n",
    "    # avg_energy = ???\n",
    "    # return avg_time, avg_energy"
   ]
  },
  {
   "cell_type": "markdown",
   "id": "b99d507b-7bd9-4b9a-bee5-1ebaf2009db3",
   "metadata": {},
   "source": [
    "Check your processor TDP and set variable my_tdp. Set value in W."
   ]
  },
  {
   "cell_type": "code",
   "execution_count": 2,
   "id": "8d2366a6-6185-4237-8110-9fa684656649",
   "metadata": {},
   "outputs": [],
   "source": [
    "# my_tdp = ???\n",
    "tested_powercaps = [i for i in range(20, my_tdp + 5, 5)]"
   ]
  },
  {
   "cell_type": "markdown",
   "id": "29d04948-02ae-4dd2-aee0-9894624ad242",
   "metadata": {},
   "source": [
    "Let's plot energy consumptions & time using above benchmark"
   ]
  },
  {
   "cell_type": "code",
   "execution_count": null,
   "id": "d93067bc-7c9c-4030-a630-4b29a091e9d7",
   "metadata": {},
   "outputs": [],
   "source": [
    "energies = []\n",
    "times = []\n",
    "ntimes = 8\n",
    "use_monte_carlo = True\n",
    "text = 'Monte Carlo' if use_monte_carlo else 'Liczenie sin i cos'\n",
    "\n",
    "for powercap in tested_powercaps:\n",
    "    time_result, energy_result = benchmark_ntimes(use_monte_carlo, ntimes, powercap)\n",
    "    energies.append(energy_result)\n",
    "    times.append(time_result)\n",
    "\n",
    "fig, ax1 = plt.subplots(figsize=(10, 6))\n",
    "\n",
    "color = 'tab:red'\n",
    "ax1.set_xlabel('Powercap (W)')\n",
    "ax1.set_ylabel('Energy (uJ)', color=color)\n",
    "ax1.plot(tested_powercaps, energies, color=color, label='Energy')\n",
    "ax1.tick_params(axis='y', labelcolor=color)\n",
    "\n",
    "ax2 = ax1.twinx()\n",
    "color = 'tab:blue'\n",
    "ax2.set_ylabel('Time (ms)', color=color)\n",
    "ax2.plot(tested_powercaps, times, color=color, label='Time')\n",
    "ax2.tick_params(axis='y', labelcolor=color)\n",
    "\n",
    "fig.tight_layout()\n",
    "plt.title(f'Energy and Time vs. Powercap, {text}')\n",
    "plt.grid(True)\n",
    "plt.show()"
   ]
  },
  {
   "cell_type": "markdown",
   "id": "7010e678-4779-459a-8adc-ed5ba12174f4",
   "metadata": {},
   "source": [
    "Let's plot out metric"
   ]
  },
  {
   "cell_type": "code",
   "execution_count": 37,
   "id": "8e516d6c",
   "metadata": {
    "collapsed": false,
    "jupyter": {
     "outputs_hidden": false
    }
   },
   "outputs": [],
   "source": [
    "edps = []\n",
    "eds_values = []\n",
    "edds = []\n",
    "percent_diffs = []\n",
    "\n",
    "initial_time, initial_energy = times[-1], energies[-1]\n",
    "k_values = [1.5, 2]\n",
    "alpha_values = [(k - 1) / (k * initial_energy) for k in k_values]\n",
    "beta_values = [1 / (k * initial_time) for k in k_values]\n",
    "eds_values = [[] for _ in k_values]\n",
    "edds = [[] for _ in k_values]\n",
    "\n",
    "for i in range(len(times)):\n",
    "    time_result, energy_result = times[i], energies[i]\n",
    "    edps.append(edp(energy_result, time_result))\n",
    "    percent_diffs.append(percent_diff(energy_result, time_result, initial_energy, initial_time))\n",
    "    for j, (alpha, beta) in enumerate(zip(alpha_values, beta_values)):\n",
    "        eds_values[j].append(eds(energy_result, time_result, alpha, beta))\n",
    "        edds[j].append(edd(energy_result, time_result, alpha, beta))\n"
   ]
  },
  {
   "cell_type": "code",
   "execution_count": null,
   "id": "5ee4656d-a7db-45ea-94db-db853d846062",
   "metadata": {},
   "outputs": [],
   "source": [
    "fig, ax1 = plt.subplots(figsize=(10, 6))\n",
    "\n",
    "ax1.set_xlabel('Powercap (W)')\n",
    "\n",
    "offset = 0\n",
    "colors = ['orange', 'purple', 'cyan', 'red', 'orange', 'brown', 'olive', 'pink', 'blue', 'grey']\n",
    "\n",
    "# EDP plot\n",
    "color = 'tab:green'\n",
    "ax1.set_ylabel('EDP', color=color)\n",
    "ax1.plot(tested_powercaps, edps, color=color, linestyle='--', label='EDP')\n",
    "ax1.tick_params(axis='y', labelcolor=color)\n",
    "\n",
    "# EDS plot\n",
    "for plot, k in zip(eds_values, k_values):\n",
    "    ax4 = ax1.twinx()\n",
    "    color = f'tab:{colors[offset // 60]}'\n",
    "    ax4.spines['right'].set_position(('outward', offset))\n",
    "    offset += 60\n",
    "    ax4.set_ylabel(f'EDS k = {k}', color=color)\n",
    "    ax4.plot(tested_powercaps, plot, color=color, linestyle=':', label='EDS')\n",
    "    ax4.tick_params(axis='y', labelcolor=color)\n",
    "\n",
    "# EDD plot\n",
    "for plot, k in zip(edds, k_values):\n",
    "    ax5 = ax1.twinx()\n",
    "    color = f'tab:{colors[offset // 60]}'\n",
    "    ax5.spines['right'].set_position(('outward', offset))\n",
    "    offset += 60\n",
    "    ax5.set_ylabel(f'EDD k = {k}', color=color)\n",
    "    ax5.plot(tested_powercaps, plot, color=color, linestyle='-.', label='EDD')\n",
    "    ax5.tick_params(axis='y', labelcolor=color)\n",
    "\n",
    "# Percent Difference plot\n",
    "ax6 = ax1.twinx()\n",
    "color = f'tab:{colors[offset // 60]}'\n",
    "ax6.spines['right'].set_position(('outward', offset))\n",
    "offset += 60\n",
    "ax6.set_ylabel('Percent Difference', color=color)\n",
    "ax6.plot(tested_powercaps, percent_diffs, color=color, linestyle='-', label='Percent Difference')\n",
    "ax6.tick_params(axis='y', labelcolor=color)\n",
    "\n",
    "fig.tight_layout()\n",
    "plt.title('Performance Metrics vs. Powercap')\n",
    "plt.grid(True)\n",
    "plt.show()"
   ]
  },
  {
   "cell_type": "markdown",
   "id": "3614d633-fe44-4e34-9b06-985302819849",
   "metadata": {},
   "source": [
    "Let's make time-energy plot to see metrics isoline. Observe pareto-front.\n",
    "\n",
    "You should see that: \n",
    "- **EDP** is a horizontal line, but in fact it is a hyperbola with its center far of the plot \n",
    "- **EDS** and %diff are linear\n",
    "- **EDD** is an elipse\n",
    "\n",
    "Isolines are plotted for points chosen by metrics. When it intersects with the point, it means that it is the best value according to that metric."
   ]
  },
  {
   "cell_type": "code",
   "execution_count": null,
   "id": "12fa8a33-1d30-4b17-86dc-094a04573975",
   "metadata": {},
   "outputs": [],
   "source": [
    "\n",
    "def trans_edp(E):\n",
    "    c = min([edp(e, t) for e, t in zip(energies, times)])\n",
    "    return c/E\n",
    "\n",
    "def f_trans_eds(index):\n",
    "        \n",
    "    def trans_eds(E):\n",
    "        alpha = alpha_values[index]\n",
    "        beta = beta_values[index]\n",
    "        c = min([eds(e, t, alpha, beta) for e, t in zip(energies, times)])\n",
    "        return -alpha/beta * E + c/beta\n",
    "    \n",
    "    return trans_eds;\n",
    "\n",
    "def f_trans_edd(index):\n",
    "\n",
    "    def trans_edd(E):\n",
    "        alpha = alpha_values[index]\n",
    "        beta = beta_values[index]\n",
    "        c = min([edd(e, t, alpha, beta) for e, t in zip(energies, times)])\n",
    "        d = c**2 - (alpha*E)**2\n",
    "        if d < 0:\n",
    "            return None\n",
    "        return np.sqrt(d)/beta\n",
    "    \n",
    "    return trans_edd;\n",
    "\n",
    "def trans_percent_diff(E):\n",
    "    c = max([percent_diff(e, t, initial_energy, initial_time) for e, t in zip(energies, times)])\n",
    "    return c + (initial_energy - E)/initial_energy * initial_time + initial_time\n",
    "\n",
    "\n",
    "transformed_metrics = \\\n",
    "{\n",
    "    \"EDP\": trans_edp,\n",
    "    \"%diff\": trans_percent_diff\n",
    "}\n",
    "\n",
    "for i, k in enumerate(k_values):\n",
    "    transformed_metrics[f\"EDS - K = {k}\"] = f_trans_eds(i)\n",
    "    transformed_metrics[f\"EDD - K = {k}\"] = f_trans_edd(i)\n",
    "      \n",
    "# Plotting\n",
    "fig, ax = plt.subplots(figsize=(10, 6))\n",
    "\n",
    "# Plot original data\n",
    "ax.scatter(energies, times, label='Original Data', color='tab:blue')\n",
    "ax.set_ylim([0, max(times) * 1.3] )\n",
    "ax.set_xlim([0.9 * min(energies), max(energies) * 1.1] )\n",
    "\n",
    "# Plot transformed metrics\n",
    "for label, metric_func in transformed_metrics.items():\n",
    "    energy_range = np.linspace(0.9 * min(energies), max(energies) * 1.1, 20000)\n",
    "    time_range = [metric_func(energy) for energy in energy_range]\n",
    "    ax.plot(energy_range, time_range, label=label, linestyle=\"--\")\n",
    "\n",
    "ax.set_xlabel('Energy (uJ)')\n",
    "ax.set_ylabel('Time (s)')\n",
    "ax.set_title('Transformed Metrics')\n",
    "ax.legend()\n",
    "\n",
    "ax.figure.set_figheight(8)\n",
    "plt.grid(True)\n",
    "plt.show()"
   ]
  }
 ],
 "metadata": {
  "kernelspec": {
   "display_name": "Python 3 (ipykernel)",
   "language": "python",
   "name": "python3"
  },
  "language_info": {
   "codemirror_mode": {
    "name": "ipython",
    "version": 3
   },
   "file_extension": ".py",
   "mimetype": "text/x-python",
   "name": "python",
   "nbconvert_exporter": "python",
   "pygments_lexer": "ipython3",
   "version": "3.9.18"
  }
 },
 "nbformat": 4,
 "nbformat_minor": 5
}
