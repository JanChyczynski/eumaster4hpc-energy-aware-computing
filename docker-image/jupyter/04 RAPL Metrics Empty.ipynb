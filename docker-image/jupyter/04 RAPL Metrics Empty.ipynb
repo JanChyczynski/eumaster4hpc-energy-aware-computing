{
 "cells": [
  {
   "cell_type": "markdown",
   "id": "ad568bc4",
   "metadata": {},
   "source": [
    "# RAPL Energy Consumption"
   ]
  },
  {
   "cell_type": "code",
   "execution_count": null,
   "id": "ba2bca77-760c-4043-8c6b-6c955416bf54",
   "metadata": {},
   "outputs": [],
   "source": [
    "pip install matplotlib"
   ]
  },
  {
   "cell_type": "code",
   "execution_count": null,
   "id": "856bf6ac",
   "metadata": {},
   "outputs": [],
   "source": [
    "import os\n",
    "from pathlib import Path\n",
    "import time\n",
    "import math\n",
    "from matplotlib import pyplot as plt\n",
    "import subprocess\n",
    "import numpy as np\n"
   ]
  },
  {
   "cell_type": "markdown",
   "id": "45dec6ce-1c57-47cc-8b80-009d09b553d4",
   "metadata": {},
   "source": [
    "**Note:** this notebook is meant to be executed on the supplied Docker image."
   ]
  },
  {
   "cell_type": "markdown",
   "id": "114f239a",
   "metadata": {},
   "source": [
    "This notebook provides ..."
   ]
  },
  {
   "cell_type": "markdown",
   "id": "db2c9813",
   "metadata": {},
   "source": [
    "## RAPL sysfs Interface"
   ]
  },
  {
   "cell_type": "markdown",
   "id": "137a7f96",
   "metadata": {},
   "source": [
    "Set the `cpu_zone` as in lab 02:"
   ]
  },
  {
   "cell_type": "code",
   "execution_count": null,
   "id": "48ebbe16",
   "metadata": {},
   "outputs": [],
   "source": [
    "cpu_zone = '/sys/devices/virtual/powercap/...'  # complete this path"
   ]
  },
  {
   "cell_type": "markdown",
   "id": "99f86b66",
   "metadata": {},
   "source": [
    "Let's verify whether this zone seems like the zone of your CPU."
   ]
  },
  {
   "cell_type": "code",
   "execution_count": null,
   "id": "bfc2bd9e",
   "metadata": {},
   "outputs": [],
   "source": [
    "if os.path.isdir(cpu_zone):\n",
    "    print('✓ Zone exists')\n",
    "else:\n",
    "    print('✗ Zone does not exist!')\n",
    "\n",
    "name = Path(f'{cpu_zone}/name').read_text().strip()\n",
    "\n",
    "if name.startswith('package-'):\n",
    "    print('✓ Its name starts with \\'package-\\'')\n",
    "else:\n",
    "    print('✗ Its zone does not start with \\'package-\\'!')\n",
    "\n",
    "if os.path.isfile(f'{cpu_zone}/energy_uj'):\n",
    "    print('✓ File \\'energy_uj\\' exists')\n",
    "else:\n",
    "    print('✗ File \\'energy_uj\\' does not exist!')"
   ]
  },
  {
   "cell_type": "markdown",
   "id": "34a02f3b",
   "metadata": {},
   "source": [
    "Complete the following code as in lab 02"
   ]
  },
  {
   "cell_type": "code",
   "execution_count": null,
   "id": "e605aa78",
   "metadata": {},
   "outputs": [],
   "source": [
    "def energy_uj():\n",
    "    raise exception('Not implemented')\n",
    "\n",
    "def energy_consumption(energy_uj_start, energy_uj_end):\n",
    "    raise exception('Not implemented')"
   ]
  },
  {
   "cell_type": "markdown",
   "id": "fd8f2d18-4bc7-41ec-b8da-4de2e7a904b3",
   "metadata": {},
   "source": [
    "Write a function to set long-term powercap. Keep in mind that the argument is in W, but you'll need to convert it to uW to set the powercap"
   ]
  },
  {
   "cell_type": "code",
   "execution_count": null,
   "id": "00297a5c",
   "metadata": {},
   "outputs": [],
   "source": [
    "def set_powercap(watts_limit: int):\n",
    "    raise exception('Not implemented')"
   ]
  },
  {
   "cell_type": "markdown",
   "id": "87c5c29a",
   "metadata": {
    "collapsed": false,
    "jupyter": {
     "outputs_hidden": false
    }
   },
   "source": [
    "We're going to run a benchmark to measure the time and energy consuption for different powercap setting. We want to assess the powercap settings minimizing the time and energy consumption. It's not obvious which result is the best as we're optimizing 2 variables. To compare the results we can use a couple of different metrics which are functions of time and energy and return a single value. Each of the metrics have its own characteristics and in certain conditions for different metrics, different settings can be chosen as the best.\n",
    "\n",
    "Note that the EDS and EDD metrics have additional $\\alpha$ and $\\beta$ parameters which allow for customizing the metric and define what we value more - minimizing the time or the energy.\n",
    "\n",
    "Implement the following metrics:\n",
    "\n",
    "1. *Energy-Delay Product (EDP)*:\n",
    "\n",
    "   $ EDP = E \\cdot t $\n",
    "\n",
    "2. *Energy-Delay Sum (EDS)*:\n",
    "\n",
    "   $ EDS = \\alpha \\cdot E + \\beta \\cdot t $\n",
    "\n",
    "3. *Energy-Delay Distance (EDD)*:\n",
    "\n",
    "   $ EDD = \\sqrt{(\\alpha \\cdot E)^2 + (\\beta \\cdot t)^2} $\n",
    "\n",
    "4. *Percentage Difference (%diff)*:\n",
    "\n",
    "   $ \\%diff = \\frac{(E_{init} - E)}{E_{init}} - \\frac{(t - t_{init})}{t_{init}} $"
   ]
  },
  {
   "cell_type": "code",
   "execution_count": null,
   "id": "a64a40ed",
   "metadata": {
    "collapsed": false,
    "jupyter": {
     "outputs_hidden": false
    }
   },
   "outputs": [],
   "source": [
    "def edp(energy: float, time: float):\n",
    "    raise exception('Not implemented')\n",
    "    \n",
    "def eds(energy: float, time: float, alpha: float, beta: float):\n",
    "    raise exception('Not implemented')\n",
    "\n",
    "def edd(energy: float, time: float, alpha: float, beta: float):\n",
    "    raise exception('Not implemented')\n",
    "\n",
    "def percent_diff(energy: float, time: float, init_energy: float, init_time: float):\n",
    "    raise exception('Not implemented')\n"
   ]
  },
  {
   "cell_type": "markdown",
   "id": "e309d312",
   "metadata": {
    "collapsed": false,
    "jupyter": {
     "outputs_hidden": false
    }
   },
   "source": [
    "There are 2 simple benchmarks prepared - calculating PI with mote carlo and matrix multiplication. Implement the `benchmark_once` method to run one of the benchmarks measuring time and energy. The `pi_monte_carlo` argument should allow for choosing between the 2 benchmarks."
   ]
  },
  {
   "cell_type": "code",
   "execution_count": null,
   "id": "57f4d58f-f2b2-455d-afb9-4820cb8412ff",
   "metadata": {},
   "outputs": [],
   "source": [
    "from math import sin, cos, radians\n",
    "\n",
    "def run_monte_carlo():\n",
    "    points = 100_000\n",
    "    inside = 0\n",
    "\n",
    "    for _ in range(points):\n",
    "        x = np.random.uniform(-1, 1)\n",
    "        y = np.random.uniform(-1, 1)\n",
    "        if x ** 2 + y ** 2 <= 1:\n",
    "            inside += 1\n",
    "\n",
    "    pi = 4 * inside / points\n",
    "\n",
    "def run_matrix_multiplication():\n",
    "    dim = 3000\n",
    "    n = np.random.rand(dim, dim)\n",
    "    m = np.random.rand(dim, dim)\n",
    "    return m @ n\n",
    "\n",
    "def run_task(pi_monte_carlo: bool):\n",
    "    return run_monte_carlo() if pi_monte_carlo  else run_matrix_multiplication()\n",
    "\n",
    "\n",
    "def benchmark_once(pi_monte_carlo: bool, powercap_w: int, *args):\n",
    "    raise exception('Not implemented')\n",
    "    # return (time in ms, energy in uJ)"
   ]
  },
  {
   "cell_type": "markdown",
   "id": "ba672ae0-82d6-4f15-8652-89fe0ee4dd6c",
   "metadata": {},
   "source": [
    "Here we have a function to run the benchmark n times, remove outlier datapoints (by time) and return average time and energy"
   ]
  },
  {
   "cell_type": "code",
   "execution_count": null,
   "id": "9c8c6b1c-316e-43f9-a00c-dabd392fa8c9",
   "metadata": {},
   "outputs": [],
   "source": [
    "def benchmark_n_times(pi_monte_carlo: bool, n: int, powercap_w: int, *args):\n",
    "    responses = []\n",
    "\n",
    "    for _ in range(n):\n",
    "        responses.append(benchmark_once(pi_monte_carlo, powercap_w, *args))\n",
    "\n",
    "    responses.sort()\n",
    "    filtered = responses[int(0.25 * n): - int(0.25 * n)] # filtering outliers (by time)\n",
    "    times = [x[0] for x in filtered]\n",
    "    energies =  [x[1] for x in filtered]\n",
    "    return np.average(times), np.average(energies)"
   ]
  },
  {
   "cell_type": "markdown",
   "id": "b99d507b-7bd9-4b9a-bee5-1ebaf2009db3",
   "metadata": {},
   "source": [
    "Check your processor TDP and set variable my_tdp. Set value in W."
   ]
  },
  {
   "cell_type": "code",
   "execution_count": null,
   "id": "8d2366a6-6185-4237-8110-9fa684656649",
   "metadata": {},
   "outputs": [],
   "source": [
    "my_tdp = ???\n",
    "tested_powercaps = [i for i in range(20, my_tdp + 5, 5)]"
   ]
  },
  {
   "cell_type": "markdown",
   "id": "29d04948-02ae-4dd2-aee0-9894624ad242",
   "metadata": {},
   "source": [
    "Let's run the benchmarks"
   ]
  },
  {
   "cell_type": "code",
   "execution_count": null,
   "id": "d93067bc-7c9c-4030-a630-4b29a091e9d7",
   "metadata": {},
   "outputs": [],
   "source": [
    "energies = []\n",
    "times = []\n",
    "ntimes = 8\n",
    "use_monte_carlo = False\n",
    "text = 'Monte Carlo' if use_monte_carlo else 'Liczenie sin i cos'\n",
    "\n",
    "for powercap in tested_powercaps:\n",
    "    time_result, energy_result = benchmark_n_times(use_monte_carlo, ntimes, powercap)\n",
    "    energies.append(energy_result)\n",
    "    times.append(time_result)"
   ]
  },
  {
   "cell_type": "markdown",
   "id": "9eb95c51",
   "metadata": {
    "collapsed": false,
    "jupyter": {
     "outputs_hidden": false
    }
   },
   "source": [
    "Let's  plot the result energies and times for the tested powercaps"
   ]
  },
  {
   "cell_type": "code",
   "execution_count": null,
   "id": "4efcae45",
   "metadata": {
    "collapsed": false,
    "jupyter": {
     "outputs_hidden": false
    }
   },
   "outputs": [],
   "source": [
    "def plot_results_vs_powercap(tested_powercaps, times, energies):\n",
    "    fig, ax1 = plt.subplots(figsize=(10, 6))\n",
    "\n",
    "    color = 'tab:red'\n",
    "    ax1.set_xlabel('Powercap (W)')\n",
    "    ax1.set_ylabel('Energy (uJ)', color=color)\n",
    "    ax1.plot(tested_powercaps, energies, color=color, label='Energy')\n",
    "    ax1.tick_params(axis='y', labelcolor=color)\n",
    "\n",
    "    ax2 = ax1.twinx()\n",
    "    color = 'tab:blue'\n",
    "    ax2.set_ylabel('Time (ms)', color=color)\n",
    "    ax2.plot(tested_powercaps, times, color=color, label='Time')\n",
    "    ax2.tick_params(axis='y', labelcolor=color)\n",
    "\n",
    "    fig.tight_layout()\n",
    "    plt.title(f'Energy and Time vs. Powercap, {text}')\n",
    "    plt.grid(True)\n",
    "    plt.show()\n",
    "\n",
    "plot_results_vs_powercap(tested_powercaps, times, energies)"
   ]
  },
  {
   "cell_type": "markdown",
   "id": "8fb850e6",
   "metadata": {
    "collapsed": false,
    "jupyter": {
     "outputs_hidden": false
    }
   },
   "source": [
    "We want to optimize the time and energy, but there isn't a single way to choose the optimal setting. When we have a setting that results in longer time but lower energy and another setting that results in shorter time but higher energy. Both of these settings can be regarded as better than the other under certain conditions. There are multiple techniques for optimizing multiple variables, one of which is Pareto front. Instead of selecting a single solution we're going to select all the solutions for which there are no solutions that are objectively better (have better values for all the optimized variables).\n",
    "\n",
    "Here's a useful example from [wikipedia](https://en.wikipedia.org/wiki/Pareto_front)\n",
    "![pareto-front.png](pareto-front.png)\n",
    "The boxed points represent feasible choices, and smaller values are preferred to larger ones. Point C is not on the Pareto frontier because it is dominated by both point A and point B. Points A and B are not strictly dominated by any other, and hence lie on the frontier.\n"
   ]
  },
  {
   "cell_type": "markdown",
   "id": "258ac3ff",
   "metadata": {
    "collapsed": false,
    "jupyter": {
     "outputs_hidden": false
    }
   },
   "source": [
    "Implement slecting the pareto front"
   ]
  },
  {
   "cell_type": "code",
   "execution_count": null,
   "id": "4c9ee028",
   "metadata": {
    "collapsed": false,
    "jupyter": {
     "outputs_hidden": false
    }
   },
   "outputs": [],
   "source": [
    "from typing import List\n",
    "\n",
    "\n",
    "def pareto_front(times:List[int], energies:List[int]) -> (List[int], List[int]):\n",
    "    raise exception('Not implemented')\n",
    "    # return zip(*front)\n",
    "\n",
    "def plot_pareto(tested_powercaps, times, energies):\n",
    "    pareto_times, pareto_energies = pareto_front(times, energies)\n",
    "\n",
    "    fig, ax = plt.subplots(figsize=(10, 6))\n",
    "\n",
    "    # Plot original data\n",
    "    ax.scatter(energies, times, label='Test results', color='tab:blue')\n",
    "    plt.scatter(pareto_energies, pareto_times, label='Test results in Pareto front', color='tab:red')\n",
    "    ax.set_ylim([1.2 * min(times) - 0.2 * max(times), max(times) * 1.2 - min(times) * 0.2] )\n",
    "    ax.set_xlim([1.2 * min(energies) - 0.2 * max(energies), max(energies) * 1.2 - min(energies) * 0.2] )\n",
    "\n",
    "\n",
    "plot_pareto(tested_powercaps, times, energies)"
   ]
  },
  {
   "cell_type": "markdown",
   "id": "7010e678-4779-459a-8adc-ed5ba12174f4",
   "metadata": {},
   "source": [
    "To select the best settings for our needs we can use metrics. With a metric our problem of optimizing multiple variables is simplified to optimizing the value of the metric. Let's calculate our metrics for all the results.\n",
    "\n",
    "For EDS and EDD metrics, instead of choosing $\\alpha$ and $\\beta$ we can choose one value - k - which is ineterpreted as the maximum multiplier of the possible time increase, and calculate the parameters with these formulas:\n",
    "\n",
    "$\\alpha = \\frac{k-1}{k \\times E_{init}}$\n",
    "$\\beta = \\frac{1}{k \\times t_{init}}$\n"
   ]
  },
  {
   "cell_type": "code",
   "execution_count": null,
   "id": "f4a411ae",
   "metadata": {
    "collapsed": false,
    "jupyter": {
     "outputs_hidden": false
    }
   },
   "outputs": [],
   "source": [
    "edps = []\n",
    "eds_values = []\n",
    "edds = []\n",
    "percent_diffs = []\n",
    "\n",
    "initial_time, initial_energy = times[-1], energies[-1]\n",
    "k_values = [1.5, 2]\n",
    "alpha_values = [(k - 1) / (k * initial_energy) for k in k_values]\n",
    "beta_values = [1 / (k * initial_time) for k in k_values]\n",
    "eds_values = [[] for _ in k_values]\n",
    "edds = [[] for _ in k_values]\n",
    "\n",
    "for i in range(len(times)):\n",
    "    time_result, energy_result = times[i], energies[i]\n",
    "    edps.append(edp(energy_result, time_result))\n",
    "    percent_diffs.append(percent_diff(energy_result, time_result, initial_energy, initial_time))\n",
    "    for j, (alpha, beta) in enumerate(zip(alpha_values, beta_values)):\n",
    "        eds_values[j].append(eds(energy_result, time_result, alpha, beta))\n",
    "        edds[j].append(edd(energy_result, time_result, alpha, beta))\n"
   ]
  },
  {
   "cell_type": "markdown",
   "id": "7ed57499",
   "metadata": {
    "collapsed": false,
    "jupyter": {
     "outputs_hidden": false
    }
   },
   "source": [
    "Plot'em all!"
   ]
  },
  {
   "cell_type": "code",
   "execution_count": null,
   "id": "8e516d6c",
   "metadata": {
    "collapsed": false,
    "jupyter": {
     "outputs_hidden": false
    }
   },
   "outputs": [],
   "source": [
    "def plot_metrics(tested_powercaps, times, energies):\n",
    "    fig, ax1 = plt.subplots(figsize=(10, 6))\n",
    "\n",
    "    ax1.set_xlabel('Powercap (W)')\n",
    "\n",
    "    offset = 0\n",
    "    colors = ['orange', 'purple', 'cyan', 'red', 'orange', 'brown', 'olive', 'pink', 'blue', 'grey']\n",
    "\n",
    "    # EDP plot\n",
    "    color = 'tab:green'\n",
    "    ax1.set_ylabel('EDP', color=color)\n",
    "    ax1.plot(tested_powercaps, edps, color=color, linestyle='--', label='EDP')\n",
    "    ax1.tick_params(axis='y', labelcolor=color)\n",
    "\n",
    "    # EDS plot\n",
    "    for plot, k in zip(eds_values, k_values):\n",
    "        ax4 = ax1.twinx()\n",
    "        color = f'tab:{colors[offset // 60]}'\n",
    "        ax4.spines['right'].set_position(('outward', offset))\n",
    "        offset += 60\n",
    "        ax4.set_ylabel(f'EDS k = {k}', color=color)\n",
    "        ax4.plot(tested_powercaps, plot, color=color, linestyle=':', label='EDS')\n",
    "        ax4.tick_params(axis='y', labelcolor=color)\n",
    "\n",
    "    # EDD plot\n",
    "    for plot, k in zip(edds, k_values):\n",
    "        ax5 = ax1.twinx()\n",
    "        color = f'tab:{colors[offset // 60]}'\n",
    "        ax5.spines['right'].set_position(('outward', offset))\n",
    "        offset += 60\n",
    "        ax5.set_ylabel(f'EDD k = {k}', color=color)\n",
    "        ax5.plot(tested_powercaps, plot, color=color, linestyle='-.', label='EDD')\n",
    "        ax5.tick_params(axis='y', labelcolor=color)\n",
    "\n",
    "    # Percent Difference plot\n",
    "    ax6 = ax1.twinx()\n",
    "    color = f'tab:{colors[offset // 60]}'\n",
    "    ax6.spines['right'].set_position(('outward', offset))\n",
    "    offset += 60\n",
    "    ax6.set_ylabel('- Percent Difference', color=color)\n",
    "    ax6.plot(tested_powercaps, [-x for x in percent_diffs], color=color, linestyle='-', label='- Percent Difference')\n",
    "    ax6.tick_params(axis='y', labelcolor=color)\n",
    "\n",
    "    fig.tight_layout()\n",
    "    plt.title('Performance Metrics vs. Powercap')\n",
    "    plt.grid(True)\n",
    "    plt.show()\n",
    "\n",
    "\n",
    "plot_metrics(tested_powercaps, times, energies)"
   ]
  },
  {
   "cell_type": "markdown",
   "id": "55cff073",
   "metadata": {
    "collapsed": false,
    "jupyter": {
     "outputs_hidden": false
    }
   },
   "source": []
  },
  {
   "cell_type": "markdown",
   "id": "3614d633-fe44-4e34-9b06-985302819849",
   "metadata": {},
   "source": [
    "To understand the characteristics of different metrics it's helpful to see its isolines - the sets of all the points with the same value in a certain metric. In other words, all the points on the isoline are considered equally good by the metric. Analogously points below the isoline are considered better, and points above the isoline are considered worse by this metric. Let's make time-energy plot to see metrics isoline. The pareto-front is marked in red. Note that the optimal results selected by the different metrics are always in the Pareto front.\n",
    "\n",
    "You should see that: \n",
    "- **EDP** is a horizontal line, but in fact it is a hyperbola with its center far out of the plot\n",
    "- **EDS** and %diff are linear\n",
    "- **EDD** is an ellipse\n",
    "\n",
    "Isolines are plotted for the optimal points in the sense of each metric. When it intersects with the point, it means that it is the best result according to that metric.\n",
    "To calculate the isolines we transformed the metrics to functions of time for Energy, assuming the value of the metric as the minimal value of this metrics for all the results."
   ]
  },
  {
   "cell_type": "code",
   "execution_count": null,
   "id": "12fa8a33-1d30-4b17-86dc-094a04573975",
   "metadata": {},
   "outputs": [],
   "source": [
    "def trans_edp(E):\n",
    "    c = min([edp(e, t) for e, t in zip(energies, times)])\n",
    "    return c/E\n",
    "\n",
    "def f_trans_eds(index):\n",
    "\n",
    "    def trans_eds(E):\n",
    "        alpha = alpha_values[index]\n",
    "        beta = beta_values[index]\n",
    "        c = min([eds(e, t, alpha, beta) for e, t in zip(energies, times)])\n",
    "        return -alpha/beta * E + c/beta\n",
    "\n",
    "    return trans_eds;\n",
    "\n",
    "def f_trans_edd(index):\n",
    "\n",
    "    def trans_edd(E):\n",
    "        alpha = alpha_values[index]\n",
    "        beta = beta_values[index]\n",
    "        c = min([edd(e, t, alpha, beta) for e, t in zip(energies, times)])\n",
    "        d = c**2 - (alpha*E)**2\n",
    "        if d < 0:\n",
    "            return None\n",
    "        return np.sqrt(d)/beta\n",
    "\n",
    "    return trans_edd;\n",
    "\n",
    "def trans_percent_diff(E):\n",
    "    c = max([percent_diff(e, t, initial_energy, initial_time) for e, t in zip(energies, times)])\n",
    "    return ((initial_energy - E)/initial_energy - c + 1) * initial_time\n",
    "\n",
    "\n",
    "def plot_isolines(tested_powercaps, times, energies):\n",
    "    transformed_metrics = \\\n",
    "    {\n",
    "        \"EDP\": trans_edp,\n",
    "        \"%diff\": trans_percent_diff\n",
    "    }\n",
    "\n",
    "    for i, k in enumerate(k_values):\n",
    "        transformed_metrics[f\"EDS - K = {k}\"] = f_trans_eds(i)\n",
    "        transformed_metrics[f\"EDD - K = {k}\"] = f_trans_edd(i)\n",
    "\n",
    "    # Plotting\n",
    "\n",
    "    pareto_times, pareto_energies = pareto_front(times, energies)\n",
    "\n",
    "    fig, ax = plt.subplots(figsize=(10, 6))\n",
    "\n",
    "    # Plot original data\n",
    "    ax.scatter(energies, times, label='Test results', color='tab:blue')\n",
    "    plt.scatter(pareto_energies, pareto_times, label='Test results in Pareto front', color='tab:red')\n",
    "    ax.set_ylim([0, max(times) * 1.3] )\n",
    "    ax.set_xlim([0.9 * min(energies), max(energies) * 1.1] )\n",
    "\n",
    "    # Plot transformed metrics\n",
    "    for label, metric_func in transformed_metrics.items():\n",
    "        energy_range = np.linspace(0.9 * min(energies), max(energies) * 1.1, 20000)\n",
    "        time_range = [metric_func(energy) for energy in energy_range]\n",
    "        ax.plot(energy_range, time_range, label=label, linestyle=\"--\")\n",
    "\n",
    "    ax.set_xlabel('Energy (uJ)')\n",
    "    ax.set_ylabel('Time (s)')\n",
    "    ax.set_title('Transformed Metrics')\n",
    "    ax.legend()\n",
    "\n",
    "    ax.figure.set_figheight(8)\n",
    "    plt.grid(True)\n",
    "    plt.show()\n",
    "\n",
    "plot_isolines(tested_powercaps, times, energies)"
   ]
  },
  {
   "cell_type": "markdown",
   "source": [
    "Here are our results gathered using the matrix benchmark. As you can see, we were able to get a wide pareto front, that consists of 6 points. Many metrics chose different points, meaning that depending on the metric, we would get a different optimal powercap. It shows the importance of choosing the right metric for your needs.\n",
    "\n",
    "Interestingly we couldn't achieve similar results (i.e. different metrics having different optimal points) on the monte carlo benchmark.\n",
    "\n",
    "Here are the specs of the PC we've used: Intel Core i5-11600 (TDP = 65W), 64GB DDR4 RAM, Ubuntu 20.04"
   ],
   "metadata": {
    "collapsed": false
   }
  },
  {
   "cell_type": "code",
   "execution_count": null,
   "id": "ed0fffe5-f6c6-414e-b0bc-02a7d4ec9f51",
   "metadata": {},
   "outputs": [],
   "source": [
    "energies = [28987560.0, 20671285.0, 17772867.2, 18308375.8, 19305822.2, 20961652.8, 22956923.6, 21965556.6, 27079227.8, 29858041.2, 29250083.6, 31001458.8, 29902499.0, 32696705.8, 29813473.6, 30982001.0, 33810069.8] \n",
    "times = [1448.0544090270996, 903.2883644104004, 692.2488689422607, 639.7526264190674, 616.3496971130371, 605.4692268371582, 617.0114040374756, 546.2283611297607, 626.2267589569092, 650.347375869751, 597.4204540252686, 597.8137016296387, 547.6146221160889, 565.6117916107178, 501.063871383667, 502.4635314941406, 518.317174911499]\n",
    "tested_powercaps = [i for i in range(20, 70, 3)]\n",
    "\n",
    "edps = []\n",
    "eds_values = []\n",
    "edds = []\n",
    "percent_diffs = []\n",
    "\n",
    "initial_time, initial_energy = times[-1], energies[-1]\n",
    "k_values = [1.5, 2]\n",
    "alpha_values = [(k - 1) / (k * initial_energy) for k in k_values]\n",
    "beta_values = [1 / (k * initial_time) for k in k_values]\n",
    "eds_values = [[] for _ in k_values]\n",
    "edds = [[] for _ in k_values]\n",
    "\n",
    "for i in range(len(times)):\n",
    "    time_result, energy_result = times[i], energies[i]\n",
    "    edps.append(edp(energy_result, time_result))\n",
    "    percent_diffs.append(percent_diff(energy_result, time_result, initial_energy, initial_time))\n",
    "    for j, (alpha, beta) in enumerate(zip(alpha_values, beta_values)):\n",
    "        eds_values[j].append(eds(energy_result, time_result, alpha, beta))\n",
    "        edds[j].append(edd(energy_result, time_result, alpha, beta))\n",
    "\n",
    "plot_results_vs_powercap(tested_powercaps, times, energies)\n",
    "plot_metrics(tested_powercaps, times, energies)\n",
    "plot_isolines(tested_powercaps, times, energies)\n"
   ]
  },
  {
   "cell_type": "code",
   "execution_count": null,
   "id": "3f4c57f7-1dda-4b8f-bfa6-1e4c22eb8395",
   "metadata": {},
   "outputs": [],
   "source": []
  }
 ],
 "metadata": {
  "kernelspec": {
   "display_name": "Python 3 (ipykernel)",
   "language": "python",
   "name": "python3"
  },
  "language_info": {
   "codemirror_mode": {
    "name": "ipython",
    "version": 3
   },
   "file_extension": ".py",
   "mimetype": "text/x-python",
   "name": "python",
   "nbconvert_exporter": "python",
   "pygments_lexer": "ipython3",
   "version": "3.9.18"
  }
 },
 "nbformat": 4,
 "nbformat_minor": 5
}
