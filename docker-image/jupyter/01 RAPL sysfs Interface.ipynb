{
 "cells": [
  {
   "cell_type": "markdown",
   "id": "9e6ca7cf",
   "metadata": {},
   "source": [
    "# RAPL sysfs Interface"
   ]
  },
  {
   "cell_type": "markdown",
   "id": "a93c1014-8343-4990-b914-1dcd52cbc3cf",
   "metadata": {},
   "source": [
    "**Note:** this notebook is meant to be executed on the supplied Docker image."
   ]
  },
  {
   "cell_type": "markdown",
   "id": "8e39f08b",
   "metadata": {},
   "source": [
    "**Note:** this and all other notebooks use the sysfs interface of the system where the Jupyter Notebook is running. It means that the output you see may be different on different systems, and some systems may not support Intel RAPL at all."
   ]
  },
  {
   "cell_type": "code",
   "execution_count": null,
   "id": "377618aa",
   "metadata": {},
   "outputs": [],
   "source": [
    "import os\n",
    "from pathlib import Path"
   ]
  },
  {
   "cell_type": "markdown",
   "id": "6fc9ba96",
   "metadata": {},
   "source": [
    "First, we have to check whether RAPL sysfs interface is present which is signified by the existence of the directory `/sys/devices/virtual/powercap/intel-rapl`, which contains all files related to the RAPL sysfs interface."
   ]
  },
  {
   "cell_type": "code",
   "execution_count": null,
   "id": "430fdd2f",
   "metadata": {},
   "outputs": [],
   "source": [
    "if os.path.isdir('/sys/devices/virtual/powercap/intel-rapl'):\n",
    "    print('RAPL sysfs supported')\n",
    "else:\n",
    "    print('RAPL sysfs unsupported')"
   ]
  },
  {
   "cell_type": "markdown",
   "id": "ead5d30a",
   "metadata": {},
   "source": [
    "In order to list all supported domains, we can list the direcotry `/sys/class/powercap`, which contains a flat structure of zones (every zone is represented by a directory in `/sys/class/powercap`), compared to the hierarchical structure from `/sys/devices/virtual/powercap` (directories representing zones contain directories representing subzones)."
   ]
  },
  {
   "cell_type": "code",
   "execution_count": null,
   "id": "afab9506",
   "metadata": {},
   "outputs": [],
   "source": [
    "domains = os.listdir('/sys/class/powercap')\n",
    "\n",
    "for domain in domains:\n",
    "    print(f'Domain {domain}:')\n",
    "    try:\n",
    "        name = Path(f'/sys/class/powercap/{domain}/name').read_text().strip()\n",
    "        print(f'  name: {name}')\n",
    "    except FileNotFoundError:\n",
    "        print(f'  name: unknown')\n",
    "    try:\n",
    "        enabled = Path(f'/sys/class/powercap/{domain}/enabled').read_text().strip()\n",
    "        print(f'  controls enabled: {enabled}')\n",
    "    except FileNotFoundError:\n",
    "        print(f'  controls enabled: unknown')\n",
    "    print('')"
   ]
  },
  {
   "cell_type": "markdown",
   "id": "46d1927e",
   "metadata": {},
   "source": [
    "Let's list all supported CPUs. They are represented by domains in the form of `intel-rapl:<number>`, and their name is in the form of `package-<number>`."
   ]
  },
  {
   "cell_type": "code",
   "execution_count": null,
   "id": "df511d08",
   "metadata": {},
   "outputs": [],
   "source": [
    "files = os.listdir('/sys/devices/virtual/powercap/intel-rapl')\n",
    "first_cpu_domain = None\n",
    "cpu_count = 0\n",
    "\n",
    "for file in files:\n",
    "    if file.startswith('intel-rapl:'):\n",
    "        name = Path(f'/sys/devices/virtual/powercap/intel-rapl/{file}/name').read_text().strip()\n",
    "        if name.startswith('package-'):\n",
    "            if first_cpu_domain is None: first_cpu_domain = file\n",
    "            cpu_count += 1\n",
    "\n",
    "            print(f'CPU \"{name}\" (zone {file})')\n",
    "\n",
    "print('')\n",
    "print(f'There are {cpu_count} CPUs in total')"
   ]
  },
  {
   "cell_type": "markdown",
   "id": "08cee61a",
   "metadata": {},
   "source": [
    "Let's take the first CPU and list all subzones within this CPU."
   ]
  },
  {
   "cell_type": "code",
   "execution_count": null,
   "id": "48b8d233",
   "metadata": {},
   "outputs": [],
   "source": [
    "files = os.listdir(f'/sys/devices/virtual/powercap/intel-rapl/{first_cpu_domain}')\n",
    "subzone_count = 0\n",
    "\n",
    "for file in files:\n",
    "    if file.startswith('intel-rapl:'):\n",
    "        subzone_count += 1\n",
    "        name = Path(f'/sys/devices/virtual/powercap/intel-rapl/{first_cpu_domain}/{file}/name').read_text().strip()\n",
    "        print(f'Subzone {file} with name \"{name}\"')\n",
    "\n",
    "print('')\n",
    "print(f'There are {subzone_count} subzones in total')"
   ]
  },
  {
   "cell_type": "markdown",
   "id": "745def63",
   "metadata": {},
   "source": [
    "The code below prints the file structures of `/sys/class/powercap` and `/sys/devices/virtual/powercap`."
   ]
  },
  {
   "cell_type": "code",
   "execution_count": null,
   "id": "b6915c0f",
   "metadata": {},
   "outputs": [],
   "source": [
    "def print_tree(directory, indent=''):\n",
    "    files = os.listdir(directory)\n",
    "    for file in files:\n",
    "        path = f'{directory}/{file}'\n",
    "        if os.path.islink(path):\n",
    "            print(f'{indent}{file} -> {os.readlink(path)}')\n",
    "            continue\n",
    "        print(f'{indent}{file}')\n",
    "        if os.path.isdir(path):\n",
    "            print_tree(path, f'{indent}  ')\n",
    "\n",
    "print('/sys/class/powercap')\n",
    "print_tree('/sys/class/powercap', '  ')\n",
    "print('')\n",
    "print('/sys/devices/virtual/powercap')\n",
    "print_tree('/sys/devices/virtual/powercap', '  ')"
   ]
  }
 ],
 "metadata": {
  "kernelspec": {
   "display_name": "Python 3 (ipykernel)",
   "language": "python",
   "name": "python3"
  },
  "language_info": {
   "codemirror_mode": {
    "name": "ipython",
    "version": 3
   },
   "file_extension": ".py",
   "mimetype": "text/x-python",
   "name": "python",
   "nbconvert_exporter": "python",
   "pygments_lexer": "ipython3",
   "version": "3.9.18"
  }
 },
 "nbformat": 4,
 "nbformat_minor": 5
}
