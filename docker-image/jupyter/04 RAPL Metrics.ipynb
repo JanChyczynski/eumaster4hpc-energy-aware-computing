{
 "cells": [
  {
   "cell_type": "markdown",
   "id": "ad568bc4",
   "metadata": {},
   "source": [
    "# RAPL Energy Consumption"
   ]
  },
  {
   "cell_type": "code",
   "execution_count": 1,
   "id": "bec100f2-b78d-4302-a88f-3422b168fe99",
   "metadata": {},
   "outputs": [
    {
     "name": "stdout",
     "output_type": "stream",
     "text": [
      "Collecting matplotlib\n",
      "  Downloading matplotlib-3.8.4-cp39-cp39-manylinux_2_17_x86_64.manylinux2014_x86_64.whl (11.6 MB)\n",
      "\u001b[K     |████████████████████████████████| 11.6 MB 2.2 MB/s eta 0:00:01\n",
      "\u001b[?25hCollecting contourpy>=1.0.1\n",
      "  Downloading contourpy-1.2.1-cp39-cp39-manylinux_2_17_x86_64.manylinux2014_x86_64.whl (304 kB)\n",
      "\u001b[K     |████████████████████████████████| 304 kB 73.8 MB/s eta 0:00:01\n",
      "\u001b[?25hCollecting fonttools>=4.22.0\n",
      "  Downloading fonttools-4.51.0-cp39-cp39-manylinux_2_17_x86_64.manylinux2014_x86_64.whl (4.6 MB)\n",
      "\u001b[K     |████████████████████████████████| 4.6 MB 66.6 MB/s eta 0:00:01\n",
      "\u001b[?25hCollecting cycler>=0.10\n",
      "  Downloading cycler-0.12.1-py3-none-any.whl (8.3 kB)\n",
      "Requirement already satisfied: numpy>=1.21 in /usr/local/lib64/python3.9/site-packages (from matplotlib) (1.26.4)\n",
      "Collecting kiwisolver>=1.3.1\n",
      "  Downloading kiwisolver-1.4.5-cp39-cp39-manylinux_2_12_x86_64.manylinux2010_x86_64.whl (1.6 MB)\n",
      "\u001b[K     |████████████████████████████████| 1.6 MB 106.7 MB/s eta 0:00:01\n",
      "\u001b[?25hRequirement already satisfied: packaging>=20.0 in /usr/local/lib/python3.9/site-packages (from matplotlib) (24.0)\n",
      "Requirement already satisfied: python-dateutil>=2.7 in /usr/local/lib/python3.9/site-packages (from matplotlib) (2.9.0.post0)\n",
      "Collecting importlib-resources>=3.2.0\n",
      "  Downloading importlib_resources-6.4.0-py3-none-any.whl (38 kB)\n",
      "Requirement already satisfied: pillow>=8 in /usr/local/lib64/python3.9/site-packages (from matplotlib) (10.3.0)\n",
      "Collecting pyparsing>=2.3.1\n",
      "  Downloading pyparsing-3.1.2-py3-none-any.whl (103 kB)\n",
      "\u001b[K     |████████████████████████████████| 103 kB 163.7 MB/s eta 0:00:01\n",
      "\u001b[?25hRequirement already satisfied: zipp>=3.1.0 in /usr/local/lib/python3.9/site-packages (from importlib-resources>=3.2.0->matplotlib) (3.18.1)\n",
      "Requirement already satisfied: six>=1.5 in /usr/lib/python3.9/site-packages (from python-dateutil>=2.7->matplotlib) (1.15.0)\n",
      "Installing collected packages: pyparsing, kiwisolver, importlib-resources, fonttools, cycler, contourpy, matplotlib\n",
      "Successfully installed contourpy-1.2.1 cycler-0.12.1 fonttools-4.51.0 importlib-resources-6.4.0 kiwisolver-1.4.5 matplotlib-3.8.4 pyparsing-3.1.2\n",
      "\u001b[33mWARNING: Running pip as the 'root' user can result in broken permissions and conflicting behaviour with the system package manager. It is recommended to use a virtual environment instead: https://pip.pypa.io/warnings/venv\u001b[0m\n",
      "Note: you may need to restart the kernel to use updated packages.\n"
     ]
    }
   ],
   "source": [
    "pip install matplotlib"
   ]
  },
  {
   "cell_type": "code",
   "execution_count": null,
   "id": "37a543ca-74e6-4ce6-bff5-f842d94ea9f8",
   "metadata": {},
   "outputs": [],
   "source": [
    "pip install numba"
   ]
  },
  {
   "cell_type": "code",
   "execution_count": null,
   "id": "a2bf2b26-eaa5-40a6-8f88-f24c807af44d",
   "metadata": {},
   "outputs": [],
   "source": [
    "pip install matplotlib"
   ]
  },
  {
   "cell_type": "code",
   "execution_count": null,
   "id": "856bf6ac",
   "metadata": {},
   "outputs": [],
   "source": [
    "import os\n",
    "from pathlib import Path\n",
    "import time\n",
    "import math\n",
    "from matplotlib import pyplot as plt\n",
    "import subprocess\n",
    "import numpy as np\n"
   ]
  },
  {
   "cell_type": "markdown",
   "id": "45dec6ce-1c57-47cc-8b80-009d09b553d4",
   "metadata": {},
   "source": [
    "**Note:** this notebook is meant to be executed on the supplied Docker image."
   ]
  },
  {
   "cell_type": "markdown",
   "id": "114f239a",
   "metadata": {},
   "source": [
    "This notebook provides ..."
   ]
  },
  {
   "cell_type": "markdown",
   "id": "db2c9813",
   "metadata": {},
   "source": [
    "## RAPL sysfs Interface"
   ]
  },
  {
   "cell_type": "markdown",
   "id": "137a7f96",
   "metadata": {},
   "source": [
    "Set the `cpu_zone` as in lab 02:"
   ]
  },
  {
   "cell_type": "code",
   "execution_count": null,
   "id": "48ebbe16",
   "metadata": {},
   "outputs": [],
   "source": [
    "cpu_zone = '/sys/devices/virtual/powercap/...'  # complete this path"
   ]
  },
  {
   "cell_type": "code",
   "execution_count": null,
   "id": "886ee78e-b6cc-42db-bca6-b4cf5379b087",
   "metadata": {},
   "outputs": [],
   "source": [
    "cpu_zone = '/sys/devices/virtual/powercap/intel-rapl/intel-rapl:0'"
   ]
  },
  {
   "cell_type": "markdown",
   "id": "99f86b66",
   "metadata": {},
   "source": [
    "Let's verify whether this zone seems like the zone of your CPU."
   ]
  },
  {
   "cell_type": "code",
   "execution_count": null,
   "id": "bfc2bd9e",
   "metadata": {},
   "outputs": [],
   "source": [
    "if os.path.isdir(cpu_zone):\n",
    "    print('✓ Zone exists')\n",
    "else:\n",
    "    print('✗ Zone does not exist!')\n",
    "\n",
    "name = Path(f'{cpu_zone}/name').read_text().strip()\n",
    "\n",
    "if name.startswith('package-'):\n",
    "    print('✓ Its name starts with \\'package-\\'')\n",
    "else:\n",
    "    print('✗ Its zone does not start with \\'package-\\'!')\n",
    "\n",
    "if os.path.isfile(f'{cpu_zone}/energy_uj'):\n",
    "    print('✓ File \\'energy_uj\\' exists')\n",
    "else:\n",
    "    print('✗ File \\'energy_uj\\' does not exist!')"
   ]
  },
  {
   "cell_type": "markdown",
   "id": "34a02f3b",
   "metadata": {},
   "source": [
    "Complete the following code as in lab 02"
   ]
  },
  {
   "cell_type": "markdown",
   "id": "f40ddc5b",
   "metadata": {},
   "source": []
  },
  {
   "cell_type": "code",
   "execution_count": null,
   "id": "e605aa78",
   "metadata": {},
   "outputs": [],
   "source": [
    "from random import randrange\n",
    "\n",
    "def energy_uj():\n",
    "    # return randrange(300)\n",
    "    # TODO verify\n",
    "    with open(f\"{cpu_zone}/energy_uj\") as energy_file:\n",
    "        return int(energy_file.readline())\n",
    "\n",
    "def mock_energy(time, powercap):\n",
    "    print(time*powercap)\n",
    "    return 8 * time * powercap + randrange(80)\n",
    "\n",
    "print(f'Current energy counter value: {energy_uj()}')\n",
    "\n",
    "def max_energy():\n",
    "   # return 300\n",
    "   # TODO verify\n",
    "   with open(f\"{cpu_zone}/max_energy_range_uj\") as file:\n",
    "        return int(file.readline())\n",
    "\n",
    "def energy_consumption(energy_uj_start, energy_uj_end):\n",
    "    # TODO verify\n",
    "    # return randrange(300)\n",
    "    return energy_uj_end - energy_uj_start if energy_uj_end > energy_uj_start else max_energy() - energy_uj_start + energy_uj_end"
   ]
  },
  {
   "cell_type": "code",
   "execution_count": null,
   "id": "00297a5c",
   "metadata": {},
   "outputs": [],
   "source": [
    "def set_powercap(watts_limit: int):\n",
    "    # pass\n",
    "    # TODO short term vs long term?\n",
    "    with open(f\"{cpu_zone}/constraint_0_power_limit_uw\", \"w\") as file:\n",
    "        file.write(str(watts_limit * 1_000_000))\n",
    "    with open(f\"{cpu_zone}/constraint_1_power_limit_uw\", \"w\") as file:\n",
    "        return file.write(str(watts_limit * 1_000_000))"
   ]
  },
  {
   "cell_type": "code",
   "execution_count": null,
   "id": "a64a40ed",
   "metadata": {
    "collapsed": false,
    "jupyter": {
     "outputs_hidden": false
    }
   },
   "outputs": [],
   "source": [
    "def edp(energy: float, time: float):\n",
    "    return energy * time\n",
    "\n",
    "def chASz(energy: float, time: float, min_energy: float, init_time: float):\n",
    "    return (energy - min_energy * 0.9) * (time - init_time * 0.9)\n",
    "\n",
    "def eds(energy: float, time: float, alpha: float, beta: float):\n",
    "    return alpha * energy + beta * time\n",
    "\n",
    "def edd(energy: float, time: float, alpha: float, beta: float):\n",
    "    return math.sqrt((alpha * energy)**2 + (beta * time)**2)\n",
    "\n",
    "def percent_diff(energy: float, time: float, init_energy: float, init_time: float):\n",
    "    return (init_energy-energy)/init_energy - (time - init_time)/init_time\n"
   ]
  },
  {
   "cell_type": "code",
   "execution_count": null,
   "id": "a46364ae",
   "metadata": {},
   "outputs": [],
   "source": [
    "from math import sin, cos, radians\n",
    "\n",
    "\"\"\"\n",
    "def run_task(pi_monte_carlo: bool, *args):\n",
    "\n",
    "    # print('lol')\n",
    "    command = f'python3 BT.py -c XS'\n",
    "    os.system(command)\n",
    "    result = os.popen(command).read()\n",
    "\n",
    "    # result = run_benchmark()\n",
    "    # print('lol2')\n",
    "    print(result)\n",
    "\"\"\"\n",
    "\n",
    "def run_task(pi_monte_carlo: bool, *args):\n",
    "    if pi_monte_carlo:\n",
    "        points = 500_000\n",
    "        inside = 0\n",
    "        \n",
    "        for _ in range(points):\n",
    "            x = np.random.uniform(-1, 1)\n",
    "            y = np.random.uniform(-1, 1)\n",
    "            if x ** 2 + y ** 2 <= 1:\n",
    "                inside += 1\n",
    "\n",
    "        pi = 4 * inside / points\n",
    "        return;\n",
    "\n",
    "    dim = 3000\n",
    "    n = np.random.rand(dim, dim)\n",
    "    m = np.random.rand(dim, dim)\n",
    "    return m @ n\n",
    "\n",
    "\n",
    "def benchmark_once(pi_monte_carlo: bool, powercap_w: int, *args):\n",
    "    set_powercap(powercap_w)\n",
    "\n",
    "    time1 = time.time()\n",
    "    energy1 = energy_uj()\n",
    "    # time.sleep(300/powercap_w**1.5)\n",
    "    run_task(pi_monte_carlo, *args)\n",
    "    time2 = time.time()\n",
    "    energy2 = energy_uj()\n",
    "\n",
    "\n",
    "    total_time = time2 - time1\n",
    "    total_energy = energy_consumption(energy1, energy2)\n",
    "\n",
    "    return total_time * 1000, total_energy\n",
    "\n",
    "\n",
    "def avg(lst): \n",
    "    return sum(lst) / len(lst) \n",
    "\n",
    "\n",
    "def benchmark_ntimes(pi_monte_carlo: bool, times: int, powercap_w: int, *args):\n",
    "\n",
    "    #total_time = 0\n",
    "    #total_energy = 0\n",
    "    #min_time = 1e9\n",
    "    #min_energy = 1e9\n",
    "    #max_time = 0\n",
    "    #max_energy = 0\n",
    "    responses = []\n",
    "    \n",
    "    for _ in range(times):\n",
    "        response = benchmark_once(pi_monte_carlo, powercap_w, *args)\n",
    "        responses.append(response)\n",
    "        #total_time += response[0]\n",
    "        #total_energy += response[1]\n",
    "\n",
    "        #min_time = min(min_time, response[0])\n",
    "        #min_energy = min(min_energy, response[1])\n",
    "        \n",
    "        #max_time = max(max_time, response[0])\n",
    "        #max_energy = max(max_energy, response[1])\n",
    "\n",
    "    responses.sort()\n",
    "    filtered = responses[2:-2]\n",
    "    return avg([x[0] for x in filtered]), avg([x[1] for x in filtered])\n",
    "    \n",
    "    # responses.map(x -> x[0])\n",
    "    # slices = responses.s\n",
    "                         \n",
    "    #avg_time = (total_time - min_time - max_time) / (times - 2)\n",
    "    #avg_energy = (total_energy - min_energy - max_energy) / (times - 2)\n",
    "    # return avg_time, avg_energy\n",
    "\n",
    "tested_powercaps = [i for i in range(30, 70, 3)]\n",
    "\n",
    "energies = []\n",
    "times = []\n",
    "ntimes = 9\n",
    "use_monte_carlo = True\n",
    "text = 'Monte Carlo' if use_monte_carlo else 'Mnożenie macierzy'\n",
    "file_name = 'monte_carlo' if use_monte_carlo else 'matrix_multiply'\n",
    "\n",
    "for powercap in tested_powercaps:\n",
    "    # time_result, energy_result = benchmark_once(use_monte_carlo, ntimes, powercap)\n",
    "    time_result, energy_result = benchmark_ntimes(use_monte_carlo, ntimes, powercap)\n",
    "    energies.append(energy_result)\n",
    "    times.append(time_result)\n",
    "\n",
    "fig, ax1 = plt.subplots(figsize=(10, 6))\n",
    "\n",
    "color = 'tab:red'\n",
    "ax1.set_xlabel('Powercap (W)')\n",
    "ax1.set_ylabel('Energy (uJ)', color=color)\n",
    "ax1.plot(tested_powercaps, energies, color=color, label='Energy')\n",
    "ax1.tick_params(axis='y', labelcolor=color)\n",
    "\n",
    "ax2 = ax1.twinx()\n",
    "color = 'tab:blue'\n",
    "ax2.set_ylabel('Time (ms)', color=color)\n",
    "ax2.plot(tested_powercaps, times, color=color, label='Time')\n",
    "ax2.tick_params(axis='y', labelcolor=color)\n",
    "\n",
    "fig.tight_layout()\n",
    "plt.title(f'Energy and Time vs. Powercap, {text}')\n",
    "plt.grid(True)\n",
    "plt.savefig(f'{file_name}.png')\n",
    "plt.show()"
   ]
  },
  {
   "cell_type": "code",
   "execution_count": null,
   "id": "8e516d6c",
   "metadata": {
    "collapsed": false,
    "jupyter": {
     "outputs_hidden": false
    }
   },
   "outputs": [],
   "source": [
    "edps = []\n",
    "eds_values = []\n",
    "edds = []\n",
    "percent_diffs = []\n",
    "chASzs = []\n",
    "\n",
    "initial_time, initial_energy = times[-1], energies[-1]\n",
    "k_values = [1.1, 1.5, 4]\n",
    "# alpha = 0.5  # You can adjust these coefficients according to your needs\n",
    "# beta = 0.5\n",
    "\n",
    "alpha_values = [(k - 1) / (k * initial_energy) for k in k_values]\n",
    "beta_values = [1 / (k * initial_time) for k in k_values]\n",
    "eds_values = [[] for _ in k_values]\n",
    "edds = [[] for _ in k_values]\n",
    "\n",
    "for i in range(len(times)):\n",
    "    time_result, energy_result = times[i], energies[i]\n",
    "    edps.append(edp(energy_result, time_result))\n",
    "    chASzs.append(chASz(energy_result, time_result, min(energies), initial_time))\n",
    "    percent_diffs.append(percent_diff(energy_result, time_result, initial_energy, initial_time))\n",
    "    for j, (alpha, beta) in enumerate(zip(alpha_values, beta_values)):\n",
    "        eds_values[j].append(eds(energy_result, time_result, alpha, beta))\n",
    "        edds[j].append(edd(energy_result, time_result, alpha, beta))\n"
   ]
  },
  {
   "cell_type": "code",
   "execution_count": null,
   "id": "2b4ba3f5",
   "metadata": {
    "collapsed": false,
    "jupyter": {
     "outputs_hidden": false
    }
   },
   "outputs": [],
   "source": [
    "fig, ax1 = plt.subplots(figsize=(10, 6))\n",
    "\n",
    "ax1.set_xlabel('Powercap (W)')\n",
    "\n",
    "offset = 0\n",
    "colors = ['orange', 'purple', 'cyan', 'red', 'orange', 'brown', 'olive', 'pink', 'blue', 'grey']\n",
    "\n",
    "# EDP plot\n",
    "color = 'tab:green'\n",
    "ax1.set_ylabel('EDP', color=color)\n",
    "ax1.plot(tested_powercaps, edps, color=color, linestyle='--', label='EDP')\n",
    "ax1.tick_params(axis='y', labelcolor=color)\n",
    "\n",
    "# EDS plot\n",
    "for plot, k in zip(eds_values, k_values):\n",
    "    ax4 = ax1.twinx()\n",
    "    color = f'tab:{colors[offset // 60]}'\n",
    "    ax4.spines['right'].set_position(('outward', offset))\n",
    "    offset += 60\n",
    "    ax4.set_ylabel(f'EDS k = {k}', color=color)\n",
    "    ax4.plot(tested_powercaps, plot, color=color, linestyle=':', label='EDS')\n",
    "    ax4.tick_params(axis='y', labelcolor=color)\n",
    "\n",
    "# EDD plot\n",
    "for plot, k in zip(edds, k_values):\n",
    "    ax5 = ax1.twinx()\n",
    "    color = f'tab:{colors[offset // 60]}'\n",
    "    ax5.spines['right'].set_position(('outward', offset))\n",
    "    offset += 60\n",
    "    ax5.set_ylabel(f'EDD k = {k}', color=color)\n",
    "    ax5.plot(tested_powercaps, plot, color=color, linestyle='-.', label='EDD')\n",
    "    ax5.tick_params(axis='y', labelcolor=color)\n",
    "\n",
    "# Percent Difference plot\n",
    "ax6 = ax1.twinx()\n",
    "color = f'tab:{colors[offset // 60]}'\n",
    "ax6.spines['right'].set_position(('outward', offset))\n",
    "offset += 60\n",
    "ax6.set_ylabel('Percent Difference', color=color)\n",
    "ax6.plot(tested_powercaps, [-x for x in percent_diffs], color=color, linestyle='-', label='Percent Difference')\n",
    "ax6.tick_params(axis='y', labelcolor=color)\n",
    "\n",
    "ax7 = ax1.twinx()\n",
    "color = f'tab:{colors[offset // 60]}'\n",
    "ax7.spines['right'].set_position(('outward', offset))\n",
    "offset += 60\n",
    "ax7.set_ylabel('ChASz (EDP++)', color=color)\n",
    "ax7.plot(tested_powercaps, chASzs, color=color, linestyle='-', label='ChASz (EDP++)')\n",
    "ax7.tick_params(axis='y', labelcolor=color)\n",
    "\n",
    "fig.tight_layout()\n",
    "plt.title('Performance Metrics vs. Powercap')\n",
    "plt.grid(True)\n",
    "plt.show()"
   ]
  },
  {
   "cell_type": "code",
   "execution_count": null,
   "id": "2d2f821e",
   "metadata": {
    "collapsed": false,
    "jupyter": {
     "outputs_hidden": false
    }
   },
   "outputs": [],
   "source": []
  },
  {
   "cell_type": "code",
   "execution_count": null,
   "id": "b5cbfd65",
   "metadata": {
    "collapsed": false,
    "jupyter": {
     "outputs_hidden": false
    }
   },
   "outputs": [],
   "source": [
    "\n",
    "def trans_edp(E):\n",
    "    # c = 500\n",
    "    c = min([edp(e, t) for e, t in zip(energies, times)])\n",
    "    omega = 0 # min(energies) - 1\n",
    "    theta = 0 # min(times) - 1\n",
    "    return c/(E-omega) + theta\n",
    "\n",
    "def f_trans_eds(index):\n",
    "        \n",
    "    def trans_eds(E):\n",
    "        # c = -390\n",
    "        alpha = alpha_values[index]\n",
    "        beta = beta_values[index]\n",
    "        c = min([eds(e, t, alpha, beta) for e, t in zip(energies, times)])\n",
    "        return -alpha/beta * E + c/beta\n",
    "    \n",
    "    return trans_eds;\n",
    "\n",
    "def f_trans_edd(index):\n",
    "\n",
    "    def trans_edd(E):\n",
    "        # c = alpha * max(energies) + 0.001\n",
    "        # c =  370\n",
    "        alpha = alpha_values[index]\n",
    "        beta = beta_values[index]\n",
    "        c = min([edd(e, t, alpha, beta) for e, t in zip(energies, times)])\n",
    "        d = c**2 - (alpha*E)**2\n",
    "        if d < 0:\n",
    "            return None\n",
    "        return np.sqrt(d)/beta\n",
    "    \n",
    "    return trans_edd;\n",
    "\n",
    "def trans_percent_diff(E):\n",
    "    # c = 10\n",
    "    c = max([percent_diff(e, t, initial_energy, initial_time) for e, t in zip(energies, times)])\n",
    "    return ((initial_energy - E)/initial_energy - c + 1) * initial_time\n",
    "\n",
    "\n",
    "def trans_chasz(E):\n",
    "    # c = 500\n",
    "    c = min([chASz(e, t, min(energies), initial_time) for e, t in zip(energies, times)])\n",
    "    omega = min(energies) * 0.9  # min(energies) - 1\n",
    "    theta = initial_time * 0.9# min(times) - 1\n",
    "    if E - omega == 0:\n",
    "        return None\n",
    "    return c/(E-omega) + theta\n",
    "\n",
    "print(alpha * max(energies) + 0.001)\n",
    "\n",
    "transformed_metrics = \\\n",
    "{\n",
    "    \"EDP\": trans_edp,\n",
    "    \"%diff\": trans_percent_diff,\n",
    "    \"ChASz\": trans_chasz\n",
    "}\n",
    "\n",
    "for i, k in enumerate(k_values):\n",
    "    transformed_metrics[f\"EDS - K = {k}\"] = f_trans_eds(i)\n",
    "    transformed_metrics[f\"EDD - K = {k}\"] = f_trans_edd(i)\n",
    "      \n",
    "# Plotting\n",
    "fig, ax = plt.subplots(figsize=(10, 6))\n",
    "\n",
    "# Plot original data\n",
    "ax.scatter(energies, times, label='Original Data', color='tab:blue')\n",
    "ax.set_ylim([1.2 * min(times) - 0.2 * max(times), max(times) * 1.2 - min(times) * 0.2] )\n",
    "ax.set_xlim([1.2 * min(energies) - 0.2 * max(energies), max(energies) * 1.2 - min(energies) * 0.2] )\n",
    "\n",
    "# Plot transformed metrics\n",
    "for label, metric_func in transformed_metrics.items():\n",
    "    energy_range = np.linspace(1.2 * min(energies) - 0.2 * max(energies), max(energies) * 1.2 - min(energies) * 0.2, 20000)\n",
    "    time_range = [metric_func(energy) for energy in energy_range]\n",
    "    ax.plot(energy_range, time_range, label=label, linestyle=\"-\" if label == \"ChASz\" else '--')\n",
    "\n",
    "ax.set_xlabel('Energy (uJ)')\n",
    "ax.set_ylabel('Time (s)')\n",
    "ax.set_title('Transformed Metrics')\n",
    "ax.legend()\n",
    "\n",
    "ax.figure.set_figheight(8)\n",
    "# ax.figure(figsize = (6,10))\n",
    "plt.grid(True)\n",
    "plt.show()"
   ]
  },
  {
   "cell_type": "markdown",
   "id": "25c2a3a2",
   "metadata": {},
   "source": []
  },
  {
   "cell_type": "code",
   "execution_count": null,
   "id": "1f4b4a51-51a9-41bc-ace3-80bbcd7e3e03",
   "metadata": {},
   "outputs": [],
   "source": [
    "print(energies, times)"
   ]
  },
  {
   "cell_type": "code",
   "execution_count": null,
   "id": "7e757319-a0ab-4e65-b019-600b39d5f9f3",
   "metadata": {},
   "outputs": [],
   "source": [
    "print(alpha_values, beta_values)"
   ]
  },
  {
   "cell_type": "code",
   "execution_count": null,
   "id": "e4dfad9c-3139-4fa9-a5c0-c67198487739",
   "metadata": {},
   "outputs": [],
   "source": []
  },
  {
   "cell_type": "code",
   "execution_count": null,
   "id": "998175f6-fff7-41c0-bce3-b2bbdeb8c64d",
   "metadata": {},
   "outputs": [],
   "source": []
  },
  {
   "cell_type": "code",
   "execution_count": null,
   "id": "44d64f2f-a898-4887-b5ff-16277979b35f",
   "metadata": {},
   "outputs": [],
   "source": []
  },
  {
   "cell_type": "code",
   "execution_count": null,
   "id": "50c762e9-c0c0-4ecf-b6e2-5eda41891a8f",
   "metadata": {},
   "outputs": [],
   "source": []
  },
  {
   "cell_type": "code",
   "execution_count": null,
   "id": "6c6c1dc0-e3f5-4d07-bdab-334f91262aeb",
   "metadata": {},
   "outputs": [],
   "source": []
  },
  {
   "cell_type": "code",
   "execution_count": null,
   "id": "0050ea22-aed9-4a1b-be33-fb4cfd48a9bf",
   "metadata": {},
   "outputs": [],
   "source": []
  },
  {
   "cell_type": "code",
   "execution_count": null,
   "id": "08e69429-c339-4255-a9e0-3e64a9e6a4a0",
   "metadata": {},
   "outputs": [],
   "source": []
  },
  {
   "cell_type": "code",
   "execution_count": null,
   "id": "95a803b5-0589-48b1-80db-455e572332db",
   "metadata": {},
   "outputs": [],
   "source": []
  },
  {
   "cell_type": "code",
   "execution_count": null,
   "id": "323eb55e-acf3-4e04-966e-b75004ac3629",
   "metadata": {},
   "outputs": [],
   "source": []
  },
  {
   "cell_type": "code",
   "execution_count": null,
   "id": "c9141b1b-c1d1-4f3a-97b0-caaf4ca78012",
   "metadata": {},
   "outputs": [],
   "source": []
  }
 ],
 "metadata": {
  "kernelspec": {
   "display_name": "Python 3 (ipykernel)",
   "language": "python",
   "name": "python3"
  },
  "language_info": {
   "codemirror_mode": {
    "name": "ipython",
    "version": 3
   },
   "file_extension": ".py",
   "mimetype": "text/x-python",
   "name": "python",
   "nbconvert_exporter": "python",
   "pygments_lexer": "ipython3",
   "version": "3.9.18"
  }
 },
 "nbformat": 4,
 "nbformat_minor": 5
}
