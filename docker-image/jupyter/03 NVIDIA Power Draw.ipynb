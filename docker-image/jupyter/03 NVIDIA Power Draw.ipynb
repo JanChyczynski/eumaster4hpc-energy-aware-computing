{
 "cells": [
  {
   "cell_type": "markdown",
   "id": "4c32d62d",
   "metadata": {},
   "source": [
    "# NVIDIA Power Draw"
   ]
  },
  {
   "cell_type": "code",
   "execution_count": null,
   "id": "ed70ec48",
   "metadata": {},
   "outputs": [],
   "source": [
    "import time\n",
    "import subprocess"
   ]
  },
  {
   "cell_type": "code",
   "execution_count": null,
   "id": "f55dd998",
   "metadata": {},
   "outputs": [],
   "source": [
    "def power_draw_w():\n",
    "    proc = subprocess.run(\n",
    "        [\"nvidia-smi\", \"--query-gpu=power.draw\", \"--format=csv\"],\n",
    "        capture_output=True)\n",
    "    stdout = proc.stdout.decode('utf-8')\n",
    "    return float(stdout.split('\\n')[1].split(' ')[0])\n",
    "\n",
    "print(f'Current power draw: {power_draw_w()} W')"
   ]
  },
  {
   "cell_type": "code",
   "execution_count": null,
   "id": "693da6bb",
   "metadata": {},
   "outputs": [],
   "source": [
    "def measure_power(args, resolution=1, log=True):\n",
    "    NS_IN_S = 1_000_000_000\n",
    "\n",
    "    energy_j = 0\n",
    "    proc = subprocess.Popen(args)\n",
    "    start_time_ns = time.time_ns()\n",
    "    time_ns = start_time_ns\n",
    "    \n",
    "    while True:\n",
    "        timeout = False\n",
    "        try:\n",
    "            proc.wait(timeout=resolution)\n",
    "        except subprocess.TimeoutExpired:\n",
    "            timeout = True\n",
    "        new_time_ns = time.time_ns()\n",
    "        draw_w = power_draw_w()\n",
    "        if log:\n",
    "            print(f'Draw at {(new_time_ns - start_time_ns) / NS_IN_S} s: {draw_w} W')\n",
    "        \n",
    "        delay_ns = new_time_ns - time_ns\n",
    "        energy_j += delay_ns * draw_w / NS_IN_S\n",
    "        time_ns = new_time_ns\n",
    "        \n",
    "        if not timeout:\n",
    "            break\n",
    "    \n",
    "    total_time_s = (time_ns - start_time_ns) / NS_IN_S\n",
    "    if log:\n",
    "        print(f'Total energy consumed: {energy_j} J')\n",
    "        print(f'Average draw: {energy_j / total_time_s} W')\n",
    "\n",
    "measure_power(['sleep', '10'], resolution=0.5)"
   ]
  },
  {
   "cell_type": "code",
   "execution_count": null,
   "id": "1bfd4fca",
   "metadata": {},
   "outputs": [],
   "source": []
  }
 ],
 "metadata": {
  "kernelspec": {
   "display_name": "Python 3 (ipykernel)",
   "language": "python",
   "name": "python3"
  },
  "language_info": {
   "codemirror_mode": {
    "name": "ipython",
    "version": 3
   },
   "file_extension": ".py",
   "mimetype": "text/x-python",
   "name": "python",
   "nbconvert_exporter": "python",
   "pygments_lexer": "ipython3",
   "version": "3.11.6"
  }
 },
 "nbformat": 4,
 "nbformat_minor": 5
}
