{
 "cells": [
  {
   "cell_type": "markdown",
   "id": "ad568bc4",
   "metadata": {},
   "source": [
    "# RAPL Energy Consumption"
   ]
  },
  {
   "cell_type": "code",
   "execution_count": null,
   "id": "856bf6ac",
   "metadata": {},
   "outputs": [],
   "source": [
    "import os\n",
    "from pathlib import Path\n",
    "import time"
   ]
  },
  {
   "cell_type": "markdown",
   "id": "114f239a",
   "metadata": {},
   "source": [
    "This notebook provides excercises related to basic energy consumption monitoring using RAPL. We will read the idle energy consumption of the machine using two interfaces: the RAPL sysfs interface and perf_event interface,"
   ]
  },
  {
   "cell_type": "markdown",
   "id": "db2c9813",
   "metadata": {},
   "source": [
    "## RAPL sysfs Interface"
   ]
  },
  {
   "cell_type": "markdown",
   "id": "137a7f96",
   "metadata": {},
   "source": [
    "First of all, it's important to find the zone of your CPU in sysfs. Use the knowledge from the previous modules to find the path of thiz zone and complete the code below."
   ]
  },
  {
   "cell_type": "code",
   "execution_count": null,
   "id": "48ebbe16",
   "metadata": {},
   "outputs": [],
   "source": [
    "cpu_zone = '/sys/devices/virtual/powercap/...'  # complete this path"
   ]
  },
  {
   "cell_type": "markdown",
   "id": "99f86b66",
   "metadata": {},
   "source": [
    "Let's verify whether this zone seems like the zone of your CPU."
   ]
  },
  {
   "cell_type": "code",
   "execution_count": null,
   "id": "bfc2bd9e",
   "metadata": {},
   "outputs": [],
   "source": [
    "if os.path.isdir(cpu_zone):\n",
    "    print('✓ Zone exists')\n",
    "else:\n",
    "    print('✗ Zone does not exist!')\n",
    "\n",
    "name = Path(f'{cpu_zone}/name').read_text().strip()\n",
    "\n",
    "if name.startswith('package-'):\n",
    "    print('✓ Its name starts with \\'package-\\'')\n",
    "else:\n",
    "    print('✗ Its zone does not start with \\'package-\\'!')\n",
    "\n",
    "if os.path.isfile(f'{cpu_zone}/energy_uj'):\n",
    "    print('✓ File \\'energy_uj\\' exists')\n",
    "else:\n",
    "    print('✗ File \\'energy_uj\\' does not exist!')"
   ]
  },
  {
   "cell_type": "markdown",
   "id": "6148f025",
   "metadata": {},
   "source": [
    "The energy counter which reports energy consumed by the zone in micro joules is available as a file named `energy_uj`. This file returns the energy consumed from ar arbitrary, but fixed point in time. By calculating the difference between these values at different points in time, we can obtain the energy consumed during the measurrement period."
   ]
  },
  {
   "cell_type": "markdown",
   "id": "34a02f3b",
   "metadata": {},
   "source": [
    "Let's start with rading the value of `energy_uj`. Complete the following code."
   ]
  },
  {
   "cell_type": "code",
   "execution_count": null,
   "id": "4064c1e9",
   "metadata": {},
   "outputs": [],
   "source": [
    "def energy_uj():\n",
    "    # write a funtion which reads the current value of the energy counter\n",
    "    # use the cpu_zone defined above\n",
    "    return # ...\n",
    "\n",
    "print(f'Current energy counter value: {energy_uj()}')"
   ]
  },
  {
   "cell_type": "markdown",
   "id": "88fa5a99",
   "metadata": {},
   "source": [
    "Let's try measuring idle CPU energy consumption using the function `energy_uj()`. Complete the following code to get the energy consumed during the 5 second measurement period in joules."
   ]
  },
  {
   "cell_type": "code",
   "execution_count": null,
   "id": "a46364ae",
   "metadata": {},
   "outputs": [],
   "source": [
    "start_energy_uj = energy_uj()\n",
    "time.sleep(5)\n",
    "end_energy_uj = energy_uj()\n",
    "\n",
    "energy_consumed_uj = # complete this formula\n",
    "energy_consumed_j = energy_consumed_uj / 1000000\n",
    "\n",
    "print(f'Energy consumed: {energy_consumed_j} J')"
   ]
  },
  {
   "cell_type": "markdown",
   "id": "25c2a3a2",
   "metadata": {},
   "source": [
    "The energy consumed should be roughly between 10 and 1000 joules depending on the power of your equipment."
   ]
  }
 ],
 "metadata": {
  "kernelspec": {
   "display_name": "Python 3 (ipykernel)",
   "language": "python",
   "name": "python3"
  },
  "language_info": {
   "codemirror_mode": {
    "name": "ipython",
    "version": 3
   },
   "file_extension": ".py",
   "mimetype": "text/x-python",
   "name": "python",
   "nbconvert_exporter": "python",
   "pygments_lexer": "ipython3",
   "version": "3.11.5"
  }
 },
 "nbformat": 4,
 "nbformat_minor": 5
}
